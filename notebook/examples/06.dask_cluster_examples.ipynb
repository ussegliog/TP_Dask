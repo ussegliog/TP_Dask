{
 "cells": [
  {
   "cell_type": "markdown",
   "metadata": {},
   "source": [
    "# Jupyter + Dask :  local vs cluster\n",
    "\n",
    "This notebook shows these features : \n",
    "* How to start a Dask cluster from a notebook on TREX\n",
    "* How to start a local Dask cluster (simulation of a computer)\n",
    "* How to manipulate time series with the dask.dataframe module\n",
    "* How to use the dataframes and the client API to submit a serie of long operations (>100 ms)\n",
    "* The code stay the same between a local cluster and a cluster on TREX"
   ]
  },
  {
   "cell_type": "markdown",
   "metadata": {
    "tags": []
   },
   "source": [
    "## Choosing a Dask subcluster\n",
    "\n",
    "We can chose to use two types of Dask subcluster : \n",
    "* A local cluster with 4 cores, simulating a computer\n",
    "* A Slurm cluster connected to the TREX cluster\n",
    "\n",
    "If you decide to use the local cluster, run the cell that defines the Localcluster.\n",
    "\n",
    "If you decide to use the Slurm cluster, run the cell that defines the SlurmCluster. \n",
    "The following cells can be called if you want to increase the size of the Dask cluster or make the size adaptive.\n",
    "\n",
    "## Start and configure a local cluster\n",
    "\n",
    "We start a local cluster with a configuration similar to a 4-core PC."
   ]
  },
  {
   "cell_type": "code",
   "execution_count": 2,
   "metadata": {},
   "outputs": [],
   "source": [
    "from distributed import LocalCluster, Client\n",
    "\n",
    "cluster = LocalCluster(n_workers=1, threads_per_worker=4)"
   ]
  },
  {
   "cell_type": "code",
   "execution_count": null,
   "metadata": {
    "tags": []
   },
   "outputs": [],
   "source": [
    "!squeue --me"
   ]
  },
  {
   "cell_type": "code",
   "execution_count": 4,
   "metadata": {
    "tags": []
   },
   "outputs": [],
   "source": [
    "cluster.close()"
   ]
  },
  {
   "cell_type": "markdown",
   "metadata": {},
   "source": [
    "## Start and configure a Slurm Cluster\n",
    "\n",
    "Thanks to the dask_jobqueue module, it is possible to start a Dask sub-cluster on the TREX cluster, with a few lines from a notebook.\n",
    "\n",
    "### Initial imports and creation of the cluster\n",
    "\n",
    "Here we import the mainly used classes, then we will create a cluster on Slurm.\n",
    "This cluster will be composed of Dask workers, launched via Slurm jobs. Each Slurm job will use 4 ncpus and 32 GB of memory in Slurm, and will consist of 1 workers. This is what is defined in the constructor below.  \n",
    "Then, each job will be launched independently on request from us or automatically if we have indicated it."
   ]
  },
  {
   "cell_type": "code",
   "execution_count": null,
   "metadata": {},
   "outputs": [],
   "source": [
    "from dask_jobqueue import SLURMCluster\n",
    "from dask.distributed import Client, progress\n",
    "\n",
    "account_Trex = 'formation_isae'\n",
    "partition_Trex = \"cpu19_rh8\"\n",
    "qos_Trex = \"--qos=cpu_2019_40\"\n",
    "\n",
    "cluster = SLURMCluster(\n",
    "    # Dask-worker specific keywords\n",
    "    n_workers=2,                # start 2 workers\n",
    "    cores=2,                    # each worker runs on 2 cores\n",
    "    memory=\"8GB\",              # each worker uses 4GB memory (on TREX g2019 : nb_cores*8Go, on g2019 : nb_cores*4Go )\n",
    "    processes=1,                # Number of Python processes to cut up each job\n",
    "    local_directory='$TMPDIR',  # Location to put temporary data if necessary\n",
    "    account=account_Trex,\n",
    "    queue=partition_Trex,\n",
    "    walltime='01:00:00',\n",
    "    interface='ib0',\n",
    "    log_directory='../dask-logs',\n",
    "    job_extra_directives=[qos_Trex] # qos to use\n",
    ")        \n",
    "\n"
   ]
  },
  {
   "cell_type": "markdown",
   "metadata": {},
   "source": [
    "We can print the job script equivalent to this cluster."
   ]
  },
  {
   "cell_type": "code",
   "execution_count": null,
   "metadata": {},
   "outputs": [],
   "source": [
    "print(cluster.job_script())"
   ]
  },
  {
   "cell_type": "markdown",
   "metadata": {},
   "source": [
    "By displaying the cluster in the notebook, we should see a widget that allows us to vary the size of our cluster manually, or automatically (Adaptive cluster). We can also configure this via lines of codes as shown below."
   ]
  },
  {
   "cell_type": "code",
   "execution_count": null,
   "metadata": {},
   "outputs": [],
   "source": [
    "cluster"
   ]
  },
  {
   "cell_type": "markdown",
   "metadata": {},
   "source": [
    "Manual specification of cluster size. The given parameter is the number of Dask workers."
   ]
  },
  {
   "cell_type": "code",
   "execution_count": 7,
   "metadata": {},
   "outputs": [],
   "source": [
    "cluster.scale(3)"
   ]
  },
  {
   "cell_type": "markdown",
   "metadata": {},
   "source": [
    "Indicate that we want an adaptive cluster (the size will vary depending on the load).\n",
    "\n",
    "Launching the next (or previous) cell should change the information displayed in the widget."
   ]
  },
  {
   "cell_type": "code",
   "execution_count": null,
   "metadata": {},
   "outputs": [],
   "source": [
    "cluster.adapt(minimum=2, maximum=4)"
   ]
  },
  {
   "cell_type": "code",
   "execution_count": null,
   "metadata": {
    "tags": []
   },
   "outputs": [],
   "source": [
    "!squeue --me"
   ]
  },
  {
   "cell_type": "markdown",
   "metadata": {},
   "source": [
    "## Client creation\n",
    "\n",
    "In order for all the dask APIs (dataframe, delayed, bag ...) to use the Dask cluster that we have started, it is essential to initialize a client.\n",
    "\n",
    "This client can also be used to submit tasks in the remainder of this example.\n",
    "\n",
    "Showing the client should show the current cluster size and give a link to the Dask Dashboard. This link does not necessarily work from your browser. Nevertheless, a proxy technology has been deployed, so you should be able to access the Dask dashboard through the following URL:\n",
    "\n",
    "https://jupyterhub.sis.cnes.fr/user/username/proxy/8787/status\n",
    "\n",
    "The port can be different from the default port which is 8787."
   ]
  },
  {
   "cell_type": "code",
   "execution_count": null,
   "metadata": {},
   "outputs": [],
   "source": [
    "from dask.distributed import Client\n",
    "\n",
    "client = Client(cluster)\n",
    "client"
   ]
  },
  {
   "cell_type": "markdown",
   "metadata": {},
   "source": [
    "## Using the Client API to Submit Simulations\n",
    "\n",
    "A typical use case of the cluster: the submission of a complex calculation (from a few seconds to several minutes) on a different set of input parameters. What we can see by doing Monte Carlo for example, but in other cases too.\n",
    "\n",
    "The principle is therefore to generate or read all the parameters to be used for the calculation, then to launch this calculation for each set of parameters. This demo is of course simplified, the calculation function is a pure python function.\n",
    "\n",
    "### Generating/reading input data\n",
    "\n",
    "We consider here that the input parameters are read in a pandas dataframe, which is able to read CSV files, but it is also possible to generate one ourselves as below (but with more interesting data ...).  \n",
    "We go on 1000 simulations here, you are free to modify that!"
   ]
  },
  {
   "cell_type": "code",
   "execution_count": null,
   "metadata": {},
   "outputs": [],
   "source": [
    "#Generates parameters \n",
    "import pandas as pd\n",
    "import numpy as np\n",
    "#We generate random params, but could do this with some intelligence, or read it from a csv file\n",
    "input_params = pd.DataFrame(np.random.randint(low=0, high=1000, size=(500, 4)),\n",
    "               columns=['a', 'b', 'c', 'd'])\n",
    "input_params.head()"
   ]
  },
  {
   "cell_type": "markdown",
   "metadata": {},
   "source": [
    "### Definition of the calculation method\n",
    "\n",
    "\n",
    "The method below simply simulates a calculation lasting between 0 and 2 seconds. We can of course adapt it, and possibly call a much longer external process. Note that it is important to return the result via python, and not in a file!"
   ]
  },
  {
   "cell_type": "code",
   "execution_count": 12,
   "metadata": {},
   "outputs": [],
   "source": [
    "# Launch a task on all of this params, dont wait for result\n",
    "def my_costly_simulation(line):\n",
    "    #print(line)\n",
    "    import time\n",
    "    import random\n",
    "    time.sleep(random.random() * 2)\n",
    "    return sum(line)"
   ]
  },
  {
   "cell_type": "markdown",
   "metadata": {},
   "source": [
    "### Submission of calculation\n",
    "\n",
    "All that remains is to submit and possibly wait for the end of the calculation.  \n",
    "The submission is not blocking, the calculation will be carried out in the background on the Dask cluster, do not hesitate to open the Dask Dashboard application to see the progress, and possibly the elasticity of the cluster if you are in adaptive mode."
   ]
  },
  {
   "cell_type": "code",
   "execution_count": 13,
   "metadata": {},
   "outputs": [],
   "source": [
    "futures = client.map(my_costly_simulation, input_params.values)"
   ]
  },
  {
   "cell_type": "markdown",
   "metadata": {},
   "source": [
    "You can also look at the jobs in progress on the cluster, and see their variation by executing the following cell several times.\n",
    "Feel free to run the above simulation several times to experiment. It may be necessary to rerun the simulation function cell, otherwise Dask may assume that the same calculation is being asked of it, and do nothing."
   ]
  },
  {
   "cell_type": "code",
   "execution_count": null,
   "metadata": {},
   "outputs": [],
   "source": [
    "!squeue --me"
   ]
  },
  {
   "cell_type": "markdown",
   "metadata": {},
   "source": [
    "### Gathering the results\n",
    "\n",
    "For now, the results are stored on the Dask workers, we can retrieve them using the gather method.\n",
    "Here, we also make sure to merge input parameters and results into a nice table, which we can save in tabular format: CSV, HDF5 ..."
   ]
  },
  {
   "cell_type": "code",
   "execution_count": null,
   "metadata": {},
   "outputs": [],
   "source": [
    "# Block until result, and add the column to initial input tables\n",
    "results = client.gather(futures)\n",
    "output = input_params.copy()\n",
    "output['result'] = pd.Series(results, index=output.index)\n",
    "output.sample(5)"
   ]
  },
  {
   "cell_type": "code",
   "execution_count": 19,
   "metadata": {
    "tags": []
   },
   "outputs": [],
   "source": [
    "client.close()\n",
    "cluster.close()"
   ]
  }
 ],
 "metadata": {
  "kernelspec": {
   "display_name": "Pangeo Stable",
   "language": "python",
   "name": "pangeo_stable"
  },
  "language_info": {
   "codemirror_mode": {
    "name": "ipython",
    "version": 3
   },
   "file_extension": ".py",
   "mimetype": "text/x-python",
   "name": "python",
   "nbconvert_exporter": "python",
   "pygments_lexer": "ipython3",
   "version": "3.11.9"
  },
  "notify_time": "5"
 },
 "nbformat": 4,
 "nbformat_minor": 4
}
